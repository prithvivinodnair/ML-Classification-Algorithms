{
  "nbformat": 4,
  "nbformat_minor": 0,
  "metadata": {
    "colab": {
      "provenance": [],
      "authorship_tag": "ABX9TyNQiJBjpHNacWb9rYwIHZ04",
      "include_colab_link": true
    },
    "kernelspec": {
      "name": "python3",
      "display_name": "Python 3"
    },
    "language_info": {
      "name": "python"
    }
  },
  "cells": [
    {
      "cell_type": "markdown",
      "metadata": {
        "id": "view-in-github",
        "colab_type": "text"
      },
      "source": [
        "<a href=\"https://colab.research.google.com/github/prithvivinodnair/ML-Classification-Algorithms/blob/main/PA2_NB.ipynb\" target=\"_parent\"><img src=\"https://colab.research.google.com/assets/colab-badge.svg\" alt=\"Open In Colab\"/></a>"
      ]
    },
    {
      "cell_type": "code",
      "execution_count": null,
      "metadata": {
        "colab": {
          "base_uri": "https://localhost:8080/"
        },
        "id": "xt317dUcY-JU",
        "outputId": "00c71ce9-1ec5-4fbc-879a-d9ffb1a5dd4b"
      },
      "outputs": [
        {
          "output_type": "stream",
          "name": "stdout",
          "text": [
            "                                               email  label\n",
            "0   date wed NUMBER aug NUMBER NUMBER NUMBER NUMB...    0.0\n",
            "1  martin a posted tassos papadopoulos the greek ...    0.0\n",
            "2  man threatens explosion in moscow thursday aug...    0.0\n",
            "3  klez the virus that won t die already the most...    0.0\n",
            "4   in adding cream to spaghetti carbonara which ...    0.0\n"
          ]
        }
      ],
      "source": [
        "import pandas as pd\n",
        "\n",
        "df = pd.read_csv('dataset_NB.csv')\n",
        "\n",
        "print(df.head())"
      ]
    },
    {
      "cell_type": "code",
      "source": [
        "# Fill missing 'email' values with an empty string\n",
        "df['email'] = df['email'].fillna('')\n",
        "\n",
        "# Now apply the TF-IDF transformation\n",
        "X = tfidf.fit_transform(df['email'])  # Transforms text into numerical format\n",
        "y = df['label']  # Target variable\n"
      ],
      "metadata": {
        "id": "Jxdu0K8diFUv"
      },
      "execution_count": null,
      "outputs": []
    },
    {
      "cell_type": "code",
      "source": [
        "from sklearn.feature_extraction.text import TfidfVectorizer\n",
        "\n",
        "# Initialize the TfidfVectorizer\n",
        "tfidf = TfidfVectorizer(stop_words='english', max_df=0.5, max_features=1000)\n",
        "# Transform the 'email' column\n",
        "X = tfidf.fit_transform(df['email'])  # Converts text into numerical format\n",
        "\n",
        "# Keep the target variable 'Label' as it is\n",
        "y = df['label']\n",
        "\n",
        "# Check the shape of the transformed data\n",
        "print(\"Shape of transformed data:\", X.shape)\n"
      ],
      "metadata": {
        "colab": {
          "base_uri": "https://localhost:8080/"
        },
        "id": "UcEikLt0hQKS",
        "outputId": "9c77b934-c718-42e1-efd3-de5b46595825"
      },
      "execution_count": null,
      "outputs": [
        {
          "output_type": "stream",
          "name": "stdout",
          "text": [
            "Shape of transformed data: (3016, 1000)\n"
          ]
        }
      ]
    },
    {
      "cell_type": "code",
      "source": [
        "from sklearn.model_selection import train_test_split\n",
        "\n",
        "# Split the dataset (80% training, 20% testing)\n",
        "X_train, X_test, y_train, y_test = train_test_split(X, y, test_size=0.20, random_state=42)"
      ],
      "metadata": {
        "id": "cgs6pYC_ieyp"
      },
      "execution_count": null,
      "outputs": []
    },
    {
      "cell_type": "code",
      "source": [
        "from sklearn.naive_bayes import GaussianNB\n",
        "\n",
        "# Check if there are any missing values in the target variable\n",
        "print(\"Missing values in y_train:\", y_train.isnull().sum())\n",
        "\n",
        "# Remove rows where y_train has NaN values\n",
        "X_train = X_train[~y_train.isna()]\n",
        "y_train = y_train.dropna()\n",
        "\n",
        "# Initialize the Gaussian Naive Bayes model\n",
        "gnb = GaussianNB()\n",
        "\n",
        "# Train the model on the training data\n",
        "gnb.fit(X_train.toarray(), y_train)\n",
        "\n",
        "# Predict on the test data\n",
        "y_pred = gnb.predict(X_test.toarray())"
      ],
      "metadata": {
        "colab": {
          "base_uri": "https://localhost:8080/"
        },
        "id": "NJGmVLoajVHw",
        "outputId": "69b24410-1871-492e-8c37-8ce5e3c17a5a"
      },
      "execution_count": null,
      "outputs": [
        {
          "output_type": "stream",
          "name": "stdout",
          "text": [
            "Missing values in y_train: 12\n"
          ]
        }
      ]
    },
    {
      "cell_type": "code",
      "source": [
        "import matplotlib.pyplot as plt\n",
        "import seaborn as sns\n",
        "from sklearn.metrics import accuracy_score, confusion_matrix, classification_report\n",
        "\n",
        "print(\"Missing values in y_pred:\", pd.Series(y_pred).isnull().sum())\n",
        "X_test = X_test[~y_test.isna()]\n",
        "y_test = y_test.dropna()\n",
        "print(\"Length of y_test:\", len(y_test))\n",
        "print(\"Length of y_pred:\", len(y_pred))\n",
        "# Re-align X_test and y_test to ensure matching lengths\n",
        "X_test = X_test[~y_test.isna()]\n",
        "y_test = y_test.dropna()\n",
        "\n",
        "# Re-run the prediction to ensure they match\n",
        "y_pred = gnb.predict(X_test.toarray())\n",
        "\n",
        "# Ensure the lengths match now\n",
        "print(\"Length of y_test after alignment:\", len(y_test))\n",
        "print(\"Length of y_pred after alignment:\", len(y_pred))\n",
        "\n",
        "# Calculate accuracy\n",
        "accuracy = accuracy_score(y_test, y_pred)\n",
        "print(\"Accuracy:\", accuracy)\n",
        "\n",
        "# Confusion Matrix\n",
        "cm = confusion_matrix(y_test, y_pred)\n",
        "\n",
        "# Plot confusion matrix graphically\n",
        "plt.figure(figsize=(8, 6))\n",
        "sns.heatmap(cm, annot=True, fmt=\"d\", cmap=\"Blues\", cbar=False)\n",
        "plt.title('Confusion Matrix')\n",
        "plt.xlabel('Predicted')\n",
        "plt.ylabel('Actual')\n",
        "plt.show()"
      ],
      "metadata": {
        "colab": {
          "base_uri": "https://localhost:8080/",
          "height": 668
        },
        "id": "RFQZQolbjyQS",
        "outputId": "f37d9418-8f9c-418d-811b-3de1ad2b08bb"
      },
      "execution_count": null,
      "outputs": [
        {
          "output_type": "stream",
          "name": "stdout",
          "text": [
            "Missing values in y_pred: 0\n",
            "Length of y_test: 600\n",
            "Length of y_pred: 604\n",
            "Length of y_test after alignment: 600\n",
            "Length of y_pred after alignment: 600\n",
            "Accuracy: 0.9766666666666667\n"
          ]
        },
        {
          "output_type": "display_data",
          "data": {
            "text/plain": [
              "<Figure size 800x600 with 1 Axes>"
            ],
            "image/png": "[encoded data removed]"
          },
          "metadata": {}
        }
      ]
    },
    {
      "cell_type": "markdown",
      "source": [],
      "metadata": {
        "id": "FdcWEF0jmG4h"
      }
    },
    {
      "cell_type": "markdown",
      "source": [
        "# **Report**\n",
        "# **Spam Classification Using Gaussian Naive Bayes**\n",
        "Approach and Preprocessing:\n",
        "\n",
        "In this project, the goal was to classify emails as either spam or not spam using a Naive Bayes classifier. The dataset consisted of email text as features and a binary label indicating whether the email was spam (1) or not spam (0). To start, the textual data needed to be converted into numerical format because the Naive Bayes classifier requires numerical inputs. We used the TF-IDF (Term Frequency-Inverse Document Frequency) technique to extract features from the email text and represent each email as a vector of numerical values. Missing values in the email text were handled by filling with empty strings, ensuring no invalid data caused issues during feature extraction.\n",
        "\n",
        "After transforming the text data, we split the dataset into 80% for training and 20% for testing. The training data was then used to train a Gaussian Naive Bayes classifier, which assumes that features follow a normal distribution, and the model was evaluated using the test data.\n",
        "\n",
        "**Model Performance and Output:**\n",
        "\n",
        "After training the model, the predictions were evaluated using common classification metrics. The accuracy score of the model was calculated, and a confusion matrix was plotted to visualize the model’s performance. The confusion matrix shows the number of true positives, false positives, true negatives, and false negatives. The overall accuracy achieved by the Gaussian Naive Bayes classifier was 97.67%.\n",
        "\n",
        "**Visualizations and Explanations:**\n",
        "\n",
        "The confusion matrix clearly illustrates the classification performance, with values indicating the number of correct and incorrect classifications. The accuracy score, along with other metrics like precision, recall, and F1-score, suggests that the Naive Bayes classifier performs reasonably well for this task, though improvements could be made by exploring other preprocessing techniques or classifiers. The model was effective in detecting spam emails based on the provided text features"
      ],
      "metadata": {
        "id": "TQdqEQoWlujU"
      }
    }
  ]
}